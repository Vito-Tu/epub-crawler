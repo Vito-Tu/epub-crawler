{
 "cells": [
  {
   "cell_type": "code",
   "execution_count": 6,
   "metadata": {},
   "outputs": [],
   "source": [
    "import urllib\n",
    "from bs4 import BeautifulSoup\n",
    "import os\n",
    "import re\n",
    "def openUrl(url):\n",
    "    header = {\n",
    "    'User-Agent':'Mozilla/5.0 (Windows NT 10.0; Win64; x64) AppleWebKit/537.36 (KHTML, like Gecko) Chrome/89.0.4389.114 Safari/537.36'\n",
    "    }\n",
    "    req = urllib.request.Request(url, headers=header)\n",
    "    respone = urllib.request.urlopen(req)\n",
    "    content = respone.read()\n",
    "    return content\n",
    "\n",
    "def getUrlAndName(tags, baseUrl):\n",
    "    name4Url = {}\n",
    "    targetLabel = 'href' if tags[0].get('href') else 'src'\n",
    "    for tag in tags:\n",
    "        link = tag.get(targetLabel)\n",
    "        print('got link: ', link)\n",
    "        name = link.split('/')[-1]\n",
    "        targetUrl = urllib.parse.urljoin(baseUrl, link)\n",
    "        name4Url[name] = targetUrl\n",
    "        data = openUrl(targetUrl)\n",
    "        newlink = './data/'+ name\n",
    "        with open(newlink, 'wb') as f:\n",
    "            f.write(data)\n",
    "        print('save data done, path: ', newlink)\n",
    "        tag[targetLabel] = newlink\n",
    "    return name4Url"
   ]
  },
  {
   "cell_type": "code",
   "execution_count": 2,
   "metadata": {},
   "outputs": [],
   "source": [
    "baseUrl = 'http://reader.obook.vip/books/mobile/04/042fe331ce51da2f9be70c40aae1b334/titlepage.html'\n",
    "content = openUrl(baseUrl)\n",
    "soup = BeautifulSoup(content, 'html.parser')\n",
    "\n",
    "cssTags = soup.find_all('link')\n",
    "scriptTags = soup.find_all('script')\n",
    "aTags = soup.find_all('a')\n",
    "imgTags = soup.find_all('img')\n",
    "# url = 'http://www.baidu.com'\n",
    "temp = soup.find_all('div', 'reader-to-vip')\n",
    "temp[0].decompose()"
   ]
  },
  {
   "cell_type": "code",
   "execution_count": 25,
   "metadata": {},
   "outputs": [
    {
     "data": {
      "text/plain": [
       "[<img alt=\"\" id=\"prev\" src=\"/books/mobile/images3/pre.png\"/>,\n",
       " <img alt=\"扉页\" id=\"next\" src=\"/books/mobile/images3/next.png\"/>,\n",
       " <image height=\"751\" width=\"563\" xlink:href=\"cover.jpeg\"/>]"
      ]
     },
     "execution_count": 25,
     "metadata": {},
     "output_type": "execute_result"
    }
   ],
   "source": [
    "temp = soup.find_all(re.compile('img|image'))\n",
    "temp"
   ]
  },
  {
   "cell_type": "code",
   "execution_count": 38,
   "metadata": {},
   "outputs": [
    {
     "data": {
      "text/plain": [
       "['cover.jpeg']"
      ]
     },
     "execution_count": 38,
     "metadata": {},
     "output_type": "execute_result"
    }
   ],
   "source": [
    "temp[2].get('xlink:href').split('/')"
   ]
  },
  {
   "cell_type": "code",
   "execution_count": 35,
   "metadata": {},
   "outputs": [
    {
     "name": "stdout",
     "output_type": "stream",
     "text": [
      "xlink:href\n"
     ]
    }
   ],
   "source": [
    "for i in temp[2].attrs:\n",
    "    if re.search(re.compile('href|src'), i):\n",
    "        print(i)"
   ]
  },
  {
   "cell_type": "code",
   "execution_count": 17,
   "metadata": {},
   "outputs": [
    {
     "data": {
      "text/plain": [
       "'src'"
      ]
     },
     "execution_count": 17,
     "metadata": {},
     "output_type": "execute_result"
    }
   ],
   "source": [
    "#  save one html \n",
    "temp = getUrlAndName(imgTags, baseUrl)\n",
    "temp = getUrlAndName(cssTags, baseUrl)\n",
    "temp = getUrlAndName(scriptTags, baseUrl)\n",
    "with open('./part0012.html', 'w', encoding='utf-8') as f:\n",
    "    f.write(str(soup))"
   ]
  },
  {
   "cell_type": "code",
   "execution_count": 59,
   "metadata": {},
   "outputs": [
    {
     "name": "stdout",
     "output_type": "stream",
     "text": [
      "40\n"
     ]
    }
   ],
   "source": [
    "links = []\n",
    "for i in aTags:\n",
    "#     print(i.string)\n",
    "    link = urllib.parse.urljoin(baseUrl, i.get('href'))\n",
    "    links.append(link.split('#')[0])\n",
    "print(len(links))"
   ]
  },
  {
   "cell_type": "code",
   "execution_count": 61,
   "metadata": {},
   "outputs": [
    {
     "data": {
      "text/plain": [
       "['http://reader.obook.vip/books/mobile/04/042fe331ce51da2f9be70c40aae1b334/text/part0011.html',\n",
       " 'http://reader.obook.vip/books/mobile/04/042fe331ce51da2f9be70c40aae1b334/text/part0013.html',\n",
       " 'http://reader.obook.vip/books/mobile/moreBooks.html',\n",
       " 'http://reader.obook.vip/books/mobile/04/042fe331ce51da2f9be70c40aae1b334/text/part0000.html',\n",
       " 'http://reader.obook.vip/books/mobile/04/042fe331ce51da2f9be70c40aae1b334/text/part0001.html',\n",
       " 'http://reader.obook.vip/books/mobile/04/042fe331ce51da2f9be70c40aae1b334/text/part0006.html',\n",
       " 'http://reader.obook.vip/books/mobile/04/042fe331ce51da2f9be70c40aae1b334/text/part0007.html',\n",
       " 'http://reader.obook.vip/books/mobile/04/042fe331ce51da2f9be70c40aae1b334/text/part0008.html',\n",
       " 'http://reader.obook.vip/books/mobile/04/042fe331ce51da2f9be70c40aae1b334/text/part0009.html',\n",
       " 'http://reader.obook.vip/books/mobile/04/042fe331ce51da2f9be70c40aae1b334/text/part0010.html',\n",
       " 'http://reader.obook.vip/books/mobile/04/042fe331ce51da2f9be70c40aae1b334/text/part0012.html',\n",
       " 'http://reader.obook.vip/books/mobile/04/042fe331ce51da2f9be70c40aae1b334/text/part0019.html',\n",
       " 'http://reader.obook.vip/books/mobile/04/042fe331ce51da2f9be70c40aae1b334/text/part0022.html',\n",
       " 'http://reader.obook.vip/books/mobile/04/042fe331ce51da2f9be70c40aae1b334/text/part0024.html',\n",
       " 'http://reader.obook.vip/books/mobile/04/042fe331ce51da2f9be70c40aae1b334/text/part0035.html',\n",
       " 'http://reader.obook.vip/books/mobile/04/042fe331ce51da2f9be70c40aae1b334/text/part0058.html',\n",
       " 'http://reader.obook.vip/books/mobile/04/042fe331ce51da2f9be70c40aae1b334/text/part0060.html',\n",
       " 'http://reader.obook.vip/books/mobile/04/042fe331ce51da2f9be70c40aae1b334/text/part0064.html',\n",
       " 'http://reader.obook.vip/books/mobile/04/042fe331ce51da2f9be70c40aae1b334/text/part0068.html',\n",
       " 'http://reader.obook.vip/books/mobile/04/042fe331ce51da2f9be70c40aae1b334/text/part0070.html',\n",
       " 'http://reader.obook.vip/books/mobile/04/042fe331ce51da2f9be70c40aae1b334/text/part0075.html',\n",
       " 'http://reader.obook.vip/books/mobile/04/042fe331ce51da2f9be70c40aae1b334/text/part0079.html',\n",
       " 'http://reader.obook.vip/books/mobile/04/042fe331ce51da2f9be70c40aae1b334/text/part0083.html',\n",
       " 'http://reader.obook.vip/books/mobile/04/042fe331ce51da2f9be70c40aae1b334/text/part0086.html',\n",
       " 'http://reader.obook.vip/books/mobile/04/042fe331ce51da2f9be70c40aae1b334/text/part0089.html',\n",
       " 'http://reader.obook.vip/books/mobile/04/042fe331ce51da2f9be70c40aae1b334/text/part0096.html',\n",
       " 'http://reader.obook.vip/books/mobile/04/042fe331ce51da2f9be70c40aae1b334/text/part0097.html',\n",
       " 'http://reader.obook.vip/books/mobile/04/042fe331ce51da2f9be70c40aae1b334/text/part0099.html',\n",
       " 'http://reader.obook.vip/books/mobile/04/042fe331ce51da2f9be70c40aae1b334/text/part0100_split_000.html',\n",
       " 'http://reader.obook.vip/books/mobile/04/042fe331ce51da2f9be70c40aae1b334/text/part0101_split_000.html',\n",
       " 'http://reader.obook.vip/books/mobile/04/042fe331ce51da2f9be70c40aae1b334/text/part0102_split_000.html',\n",
       " 'http://reader.obook.vip/books/mobile/04/042fe331ce51da2f9be70c40aae1b334/text/part0103_split_000.html',\n",
       " 'http://reader.obook.vip/books/mobile/04/042fe331ce51da2f9be70c40aae1b334/text/part0104.html',\n",
       " 'http://reader.obook.vip/books/mobile/04/042fe331ce51da2f9be70c40aae1b334/text/part0105.html',\n",
       " 'http://reader.obook.vip/books/mobile/04/042fe331ce51da2f9be70c40aae1b334/text/part0106_split_000.html',\n",
       " 'http://reader.obook.vip/books/mobile/04/042fe331ce51da2f9be70c40aae1b334/text/part0107.html',\n",
       " 'http://reader.obook.vip/books/mobile/04/042fe331ce51da2f9be70c40aae1b334/text/part0108.html',\n",
       " 'http://reader.obook.vip/books/mobile/04/042fe331ce51da2f9be70c40aae1b334/text/part0109.html',\n",
       " 'http://reader.obook.vip/books/mobile/04/042fe331ce51da2f9be70c40aae1b334/text/part0111.html',\n",
       " 'http://reader.obook.vip/books/mobile/04/042fe331ce51da2f9be70c40aae1b334/text/part0112.html']"
      ]
     },
     "execution_count": 61,
     "metadata": {},
     "output_type": "execute_result"
    }
   ],
   "source": [
    "links"
   ]
  },
  {
   "cell_type": "code",
   "execution_count": 71,
   "metadata": {},
   "outputs": [
    {
     "data": {
      "text/plain": [
       "[]"
      ]
     },
     "execution_count": 71,
     "metadata": {},
     "output_type": "execute_result"
    }
   ],
   "source": [
    "soup.find_all('a', 'a_next')#[0].get('href')"
   ]
  },
  {
   "cell_type": "code",
   "execution_count": 72,
   "metadata": {},
   "outputs": [
    {
     "data": {
      "text/plain": [
       "True"
      ]
     },
     "execution_count": 72,
     "metadata": {},
     "output_type": "execute_result"
    }
   ],
   "source": [
    "isExists = os.path.exists('./data/resource/webreader3.css')\n",
    "isExists"
   ]
  },
  {
   "cell_type": "code",
   "execution_count": 67,
   "metadata": {},
   "outputs": [],
   "source": [
    "os.mkdir('./data/resource/')"
   ]
  },
  {
   "cell_type": "code",
   "execution_count": 41,
   "metadata": {},
   "outputs": [],
   "source": []
  },
  {
   "cell_type": "code",
   "execution_count": 42,
   "metadata": {},
   "outputs": [],
   "source": []
  },
  {
   "cell_type": "code",
   "execution_count": 26,
   "metadata": {},
   "outputs": [],
   "source": []
  },
  {
   "cell_type": "code",
   "execution_count": 33,
   "metadata": {},
   "outputs": [
    {
     "data": {
      "text/plain": [
       "<?xml version='1.0' encoding='utf-8'?>\n",
       "<html xmlns=\"http://www.w3.org/1999/xhtml\">\n",
       "<head>\n",
       "<title src=\"new src\">未知</title>\n",
       "<meta content=\"text/html; charset=utf-8\" http-equiv=\"Content-Type\"/>\n",
       "<link href=\"./data/stylesheet.css\" rel=\"stylesheet\" type=\"text/css\"/>\n",
       "<link href=\"./data/page_styles.css\" rel=\"stylesheet\" type=\"text/css\"/>\n",
       "<script language=\"javascript\" src=\"./data/jquery.min.js\" type=\"text/javascript\"></script>\n",
       "<script language=\"javascript\" src=\"./data/webreader3.js\" type=\"text/javascript\"></script>\n",
       "<meta content=\"IE=edge,chrome=1\" http-equiv=\"X-UA-Compatible\"/>\n",
       "<meta content=\"width=device-width, initial-scale=1.0, minimum-scale=0.5,maximum-scale=1.5, user-scalable=yes\" name=\"viewport\"/>\n",
       "<link href=\"./data/webreader3.css\" rel=\"stylesheet\" type=\"text/css\"/>\n",
       "</head>\n",
       "<body class=\"calibre\" id=\"BE6O0-e019c8a4e77f4211b9cc649f9dff8763\"><div class=\"WebReader\"><div class=\"reader-to-vip c-pointer\" onclick=\"toVip(event)\"></div><div class=\"readertop\" onclick=\"stopProp(event)\"><div class=\"reader-setting\"></div><div class=\"top-bottom\"><div class=\"top-bottom-inner\"><div class=\"menu-icon wd-same df justify-start\"><div class=\"df flex-column align-center c-pointer\" onclick=\"menusfade(event)\"><div class=\"img-pic toc\" id=\"toc\" style=\"background-image: url(/books/mobile/images3/menu.png);background-repeat: no-repeat;\"></div><p> 目录</p></div></div><div class=\"top-prev wd-same df justify-start\"><div class=\"c-pointer df flex-column align-center\"><a class=\"a_prev\" href=\"/books/mobile/04/042fe331ce51da2f9be70c40aae1b334/text/part0011.html\"><img alt=\"\" id=\"prev\" src=\"./data/pre.png\"/></a><p> 上一章</p></div></div><div class=\"top_next wd-same df justify-start\"><div class=\"c-pointer df flex-column align-center\"><a class=\"a_next\" href=\"/books/mobile/04/042fe331ce51da2f9be70c40aae1b334/text/part0013.html\"><img alt=\"\" id=\"next\" src=\"./data/next.png\"/></a><p> 下一章</p></div></div><div class=\"top-more\"><div class=\"c-pointer df flex-column align-center\"><a class=\"a_reader\" href=\"/books/mobile/moreBooks.html\"><div alt=\"\" class=\"img-pic reader\" id=\"reader\" style=\"background-image: url(/books/mobile/images3/reader.png);background-repeat: no-repeat;\"></div></a><p class=\"white-nowrap\">更多图书</p></div></div></div></div></div>\n",
       "<div class=\"readermenu\"><div id=\"tocmenulinks\"><div class=\"menu-inner scroll-bar\"><p class=\"menutop\"><span>Table Of Contents</span></p><div class=\"level_1\">\n",
       "<p><a href=\"/books/mobile/04/042fe331ce51da2f9be70c40aae1b334/text/part0000.html#0-e019c8a4e77f4211b9cc649f9dff8763\">扉页</a></p>\n",
       "</div>\n",
       "<div class=\"level_1\">\n",
       "<p><a href=\"/books/mobile/04/042fe331ce51da2f9be70c40aae1b334/text/part0001.html#UGI0-e019c8a4e77f4211b9cc649f9dff8763\">目录</a></p>\n",
       "</div>\n",
       "<div class=\"level_1\">\n",
       "<p><a href=\"/books/mobile/04/042fe331ce51da2f9be70c40aae1b334/text/part0006.html#5N3C0-e019c8a4e77f4211b9cc649f9dff8763\">中文版序言 书中自有黄金屋</a></p>\n",
       "</div>\n",
       "<div class=\"level_1\">\n",
       "<p><a href=\"/books/mobile/04/042fe331ce51da2f9be70c40aae1b334/text/part0007.html#6LJU0-e019c8a4e77f4211b9cc649f9dff8763\">鸣谢</a></p>\n",
       "</div>\n",
       "<div class=\"level_1\">\n",
       "<p><a href=\"/books/mobile/04/042fe331ce51da2f9be70c40aae1b334/text/part0008.html#7K4G0-e019c8a4e77f4211b9cc649f9dff8763\">序言：巴菲特论芒格</a></p>\n",
       "</div>\n",
       "<div class=\"level_1\">\n",
       "<p><a href=\"/books/mobile/04/042fe331ce51da2f9be70c40aae1b334/text/part0009.html#8IL20-e019c8a4e77f4211b9cc649f9dff8763\">驳辞：芒格论巴菲特</a></p>\n",
       "</div>\n",
       "<div class=\"level_1\">\n",
       "<p><a href=\"/books/mobile/04/042fe331ce51da2f9be70c40aae1b334/text/part0010.html#9H5K0-e019c8a4e77f4211b9cc649f9dff8763\">导读</a></p>\n",
       "</div>\n",
       "<div class=\"level_1\">\n",
       "<p><a href=\"/books/mobile/04/042fe331ce51da2f9be70c40aae1b334/text/part0012.html#BE6O0-e019c8a4e77f4211b9cc649f9dff8763\">第一章 查理·芒格传略</a></p>\n",
       "<div class=\"level_2\">\n",
       "<p><a href=\"/books/mobile/04/042fe331ce51da2f9be70c40aae1b334/text/part0019.html#I3QM0-e019c8a4e77f4211b9cc649f9dff8763\">歌颂长者： 芒格论晚年</a></p>\n",
       "</div>\n",
       "<div class=\"level_2\">\n",
       "<p><a href=\"/books/mobile/04/042fe331ce51da2f9be70c40aae1b334/text/part0022.html#KVCC0-e019c8a4e77f4211b9cc649f9dff8763\">忆念： 晚辈谈芒格</a></p>\n",
       "</div>\n",
       "</div>\n",
       "<div class=\"level_1\">\n",
       "<p><a href=\"/books/mobile/04/042fe331ce51da2f9be70c40aae1b334/text/part0024.html#MSDG0-e019c8a4e77f4211b9cc649f9dff8763\">第二章 芒格的生活、学习和决策方法</a></p>\n",
       "</div>\n",
       "<div class=\"level_1\">\n",
       "<p><a href=\"/books/mobile/04/042fe331ce51da2f9be70c40aae1b334/text/part0035.html#11C3M0-e019c8a4e77f4211b9cc649f9dff8763\">第三章 芒格主义：查理的即席谈话</a></p>\n",
       "</div>\n",
       "<div class=\"level_1\">\n",
       "<p><a href=\"/books/mobile/04/042fe331ce51da2f9be70c40aae1b334/text/part0058.html#1NA0K0-e019c8a4e77f4211b9cc649f9dff8763\">第四章 查理十一讲</a></p>\n",
       "<div class=\"level_2\">\n",
       "<p><a href=\"/books/mobile/04/042fe331ce51da2f9be70c40aae1b334/text/part0060.html#1P71O0-e019c8a4e77f4211b9cc649f9dff8763\">第一讲 在哈佛学校毕业典礼上的演讲</a></p>\n",
       "</div>\n",
       "<div class=\"level_2\">\n",
       "<p><a href=\"/books/mobile/04/042fe331ce51da2f9be70c40aae1b334/text/part0064.html#1T1400-e019c8a4e77f4211b9cc649f9dff8763\">第二讲 论基本的、普世的智慧， 及其与投资管理和商业的关系</a></p>\n",
       "</div>\n",
       "<div class=\"level_2\">\n",
       "<p><a href=\"/books/mobile/04/042fe331ce51da2f9be70c40aae1b334/text/part0068.html#20R680-e019c8a4e77f4211b9cc649f9dff8763\">第三讲 论基本的、普世的智慧（修正稿）</a></p>\n",
       "</div>\n",
       "<div class=\"level_2\">\n",
       "<p><a href=\"/books/mobile/04/042fe331ce51da2f9be70c40aae1b334/text/part0070.html#22O7C0-e019c8a4e77f4211b9cc649f9dff8763\">第四讲 关于现实思维的现实思考？</a></p>\n",
       "</div>\n",
       "<div class=\"level_2\">\n",
       "<p><a href=\"/books/mobile/04/042fe331ce51da2f9be70c40aae1b334/text/part0075.html#27GQ60-e019c8a4e77f4211b9cc649f9dff8763\">第五讲 专业人士需要更多的跨学科技能</a></p>\n",
       "</div>\n",
       "<div class=\"level_2\">\n",
       "<p><a href=\"/books/mobile/04/042fe331ce51da2f9be70c40aae1b334/text/part0079.html#2BASE0-e019c8a4e77f4211b9cc649f9dff8763\">第六讲 一流慈善基金的投资实践</a></p>\n",
       "</div>\n",
       "<div class=\"level_2\">\n",
       "<p><a href=\"/books/mobile/04/042fe331ce51da2f9be70c40aae1b334/text/part0083.html#2F4UM0-e019c8a4e77f4211b9cc649f9dff8763\">第七讲 在慈善圆桌会议早餐会上的讲话</a></p>\n",
       "</div>\n",
       "<div class=\"level_2\">\n",
       "<p><a href=\"/books/mobile/04/042fe331ce51da2f9be70c40aae1b334/text/part0086.html#2I0GC0-e019c8a4e77f4211b9cc649f9dff8763\">第八讲 2003年的金融大丑闻</a></p>\n",
       "</div>\n",
       "<div class=\"level_2\">\n",
       "<p><a href=\"/books/mobile/04/042fe331ce51da2f9be70c40aae1b334/text/part0089.html#2KS220-e019c8a4e77f4211b9cc649f9dff8763\">第九讲 论学院派经济学：考虑跨学科需求之后的优点和缺点</a></p>\n",
       "</div>\n",
       "<div class=\"level_2\">\n",
       "<p><a href=\"/books/mobile/04/042fe331ce51da2f9be70c40aae1b334/text/part0096.html#2RHM00-e019c8a4e77f4211b9cc649f9dff8763\">第十讲 在南加州大学GOULD法学院毕业典礼上的演讲</a></p>\n",
       "</div>\n",
       "<div class=\"level_2\">\n",
       "<p><a href=\"/books/mobile/04/042fe331ce51da2f9be70c40aae1b334/text/part0097.html#2SG6I0-e019c8a4e77f4211b9cc649f9dff8763\">第十一讲 人类误判心理学</a></p>\n",
       "</div>\n",
       "</div>\n",
       "<div class=\"level_1\">\n",
       "<p><a href=\"/books/mobile/04/042fe331ce51da2f9be70c40aae1b334/text/part0099.html#2UD7M0-e019c8a4e77f4211b9cc649f9dff8763\">第五章 文章、报道与评论</a></p>\n",
       "<div class=\"level_2\">\n",
       "<p><a href=\"/books/mobile/04/042fe331ce51da2f9be70c40aae1b334/text/part0100_split_000.html#2VBO80-e019c8a4e77f4211b9cc649f9dff8763\">如果说标准石油正在试图变得贪婪的话，那么它的表现可不够好</a></p>\n",
       "</div>\n",
       "<div class=\"level_2\">\n",
       "<p><a href=\"/books/mobile/04/042fe331ce51da2f9be70c40aae1b334/text/part0101_split_000.html#30A8Q0-e019c8a4e77f4211b9cc649f9dff8763\">巴菲特的副手……</a></p>\n",
       "</div>\n",
       "<div class=\"level_2\">\n",
       "<p><a href=\"/books/mobile/04/042fe331ce51da2f9be70c40aae1b334/text/part0102_split_000.html#318PC0-e019c8a4e77f4211b9cc649f9dff8763\">互助储蓄与贷款联盟的请辞信</a></p>\n",
       "</div>\n",
       "<div class=\"level_2\">\n",
       "<p><a href=\"/books/mobile/04/042fe331ce51da2f9be70c40aae1b334/text/part0103_split_000.html#3279U0-e019c8a4e77f4211b9cc649f9dff8763\">反托拉斯法的滥用</a></p>\n",
       "</div>\n",
       "<div class=\"level_2\">\n",
       "<p><a href=\"/books/mobile/04/042fe331ce51da2f9be70c40aae1b334/text/part0104.html#335QG0-e019c8a4e77f4211b9cc649f9dff8763\">芒格科学中心接近完工</a></p>\n",
       "</div>\n",
       "<div class=\"level_2\">\n",
       "<p><a href=\"/books/mobile/04/042fe331ce51da2f9be70c40aae1b334/text/part0105.html#344B20-e019c8a4e77f4211b9cc649f9dff8763\">不那么沉默的合伙人</a></p>\n",
       "</div>\n",
       "<div class=\"level_2\">\n",
       "<p><a href=\"/books/mobile/04/042fe331ce51da2f9be70c40aae1b334/text/part0106_split_000.html#352RK0-e019c8a4e77f4211b9cc649f9dff8763\">乐观主义在会计中没有容身之地</a></p>\n",
       "</div>\n",
       "<div class=\"level_2\">\n",
       "<p><a href=\"/books/mobile/04/042fe331ce51da2f9be70c40aae1b334/text/part0107.html#361C60-e019c8a4e77f4211b9cc649f9dff8763\">贝西克兰兴衰记</a></p>\n",
       "</div>\n",
       "<div class=\"level_2\">\n",
       "<p><a href=\"/books/mobile/04/042fe331ce51da2f9be70c40aae1b334/text/part0108.html#36VSO0-e019c8a4e77f4211b9cc649f9dff8763\">“贪无厌”“高财技”“黑心肠”和“脑残”国的悲剧</a></p>\n",
       "</div>\n",
       "</div>\n",
       "<div class=\"level_1\">\n",
       "<p><a href=\"/books/mobile/04/042fe331ce51da2f9be70c40aae1b334/text/part0109.html#37UDA0-e019c8a4e77f4211b9cc649f9dff8763\">查理·芒格的推荐书目</a></p>\n",
       "</div>\n",
       "<div class=\"level_1\">\n",
       "<p><a href=\"/books/mobile/04/042fe331ce51da2f9be70c40aae1b334/text/part0111.html#39REE0-e019c8a4e77f4211b9cc649f9dff8763\">查理·芒格年谱</a></p>\n",
       "</div>\n",
       "<div class=\"level_1\">\n",
       "<p><a href=\"/books/mobile/04/042fe331ce51da2f9be70c40aae1b334/text/part0112.html#3APV00-e019c8a4e77f4211b9cc649f9dff8763\">版权页</a></p>\n",
       "</div>\n",
       "<p class=\"menubottom\"></p></div></div></div>\n",
       "<div class=\"readercontent\"><div class=\"readercontent-inner\">\n",
       "<h1 class=\"calibre10\" id=\"calibre_pb_0\">第一章<br class=\"calibre11\"/>\n",
       "  查理·芒格传略</h1>\n",
       "<p class=\"kaiti2\">迈克尔·布洛基</p>\n",
       "<div class=\"round\">\n",
       "<p class=\"brown3\">最接近把一个人的生活重新过一遍的事情是回忆那种生活，并用文字记录下来，让这种回忆尽可能地长久。</p>\n",
       "<p class=\"brown4\">——本杰明·富兰克林</p>\n",
       "</div>\n",
       "<div class=\"fright\"><img alt=\"\" class=\"calibre9\" src=\"./data/00019.jpeg\"/></div>\n",
       "<p class=\"calibre8\">伯克希尔·哈撒韦的辉煌故事背后，是两位金融界的天才：广受赞誉的沃伦·巴菲特和他的“沉默伙伴”，以低调为乐的查理·芒格。</p>\n",
       "<p class=\"calibre8\">查理是沃伦的朋友、律师、顾问、“死对头”（沃伦曾经称他为可恶的“说不大师”），也是美国商业史上最成功的上市公司的最大股东之一。沃伦1964年接管了伯克希尔，几年后，查理也加入了管理层，自那以来，该公司的市值令人震惊地增长了13500倍，从1000万美元猛增到1350亿美元，而且该公司的流通股并没有增加多少。如此非凡的增长是这两位美国中西部人取得的杰出成就，他们齐心协力，发现和抓住了许多其他商人不断错过的机会。</p>\n",
       "<div class=\"fleft\">\n",
       "<img alt=\"\" class=\"calibre9\" src=\"./data/00020.jpeg\"/>\n",
       "<p class=\"tushuo\">这个场景注定了在查理随后的岁月里将会无数次地重复：在明尼苏达州卡斯湖成功地钓到大鱼。</p>\n",
       "</div>\n",
       "<p class=\"calibre8\">沃伦是美国最受尊敬和知名度最高的商界领袖之一，而查理则有意地避开镁光灯，选择了相对默默无闻的生活。为了更好地理解这位复杂和极其低调的商人，我们必须从头开始。1924年1月1日，查理·托马斯·芒格生于美国中部的内布拉斯加州奥马哈市。许多知名人士都是他的中西部老乡：威尔·罗杰斯、亨利·方达、约翰·佩尔辛、哈里·杜鲁门、沃尔特·迪士尼、安·兰德斯、杰拉德·福特——当然还有沃伦·巴菲特。</p>\n",
       "<p class=\"calibre8\">查理最初和巴菲特家产生交集，是在他成长的那些年，当时他在巴菲特父子商店工作。那是奥马哈市一家高档杂货店，与芒格家相隔六个街区。老板是沃伦的祖父恩尼斯特，他拥有这家商店的部分所有权。恩尼斯特是严格的纪律执行者，他安排手下的年轻工人每天上班12个小时，期间既不能进食，也不能休息。按照查理的说法，他的老板的反社会主义的态度可以从其设定的规矩看出来：老板要求孩子们下班时上缴两分钱，那是新的社会安全法案规定的费用。他们得到的是两美元的日薪和一句忠告：社会主义是有问题的。</p>\n",
       "<p class=\"calibre8\">巴菲特杂货店的艰苦工作让查理和沃伦受益终生。在他未来的生意合伙人离开几年之后，年轻六岁的沃伦也在恩尼斯特爷爷手下艰苦地工作过。</p>\n",
       "<p class=\"calibre8\">查理的正式教育始于邓迪小学，他的两位妹妹玛丽和卡萝尔也是该校的学生，他们在那里得到了正统的道德教育。老师们记得查理当年是个聪明的小孩，也表现得有点目中无人。他喜欢用通过阅读各种图书（尤其是传记）所获得的与日俱增的知识来质疑老师和同学们的世俗智慧。如今，他已想不起最早接触本杰明·富兰克林的那些格言警句是在什么时候，但它们让查理对这位兼收并蓄的古怪政治家和发明家产生了不可磨灭的崇拜之情。查理的双亲埃尔·芒格和弗罗伦斯·芒格夫妇鼓励阅读，圣诞节会给每个孩子送几本书当礼物；那些书通常在当天晚上就被狼吞虎咽地看完。</p>\n",
       "<div class=\"chatu1\">\n",
       "<img alt=\"\" class=\"calibre5\" src=\"./data/00021.jpeg\"/>\n",
       "<p class=\"tushuo\">查理和他的太太南希在驶离圣塔巴巴拉海岸的Channel Cat号游艇上。</p>\n",
       "</div>\n",
       "<div class=\"fleft\">\n",
       "<img alt=\"\" class=\"calibre9\" src=\"./data/00022.jpeg\"/>\n",
       "<p class=\"tushuo\">“我这辈子遇到的聪明人（来自各行各业的聪明人）没有不每天阅读的——没有，一个都没有。沃伦读书之多，我读书之多，可能会让你感到吃惊。我的孩子们都笑话我。他们觉得我是一本长了两条腿的书。”</p>\n",
       "</div>\n",
       "<p class=\"calibre8\">戴维斯家是芒格家的世交，两家离得很近，芒格经常去他们家翻阅埃德·戴维斯医生的各种医学期刊。埃德是他父亲最好的朋友，也是他们的家庭医生。由于早年接触了戴维斯医生的医学藏书，查理养成了终生对科学的兴趣。到了14岁那年，这个早熟的好学少年也变成了医生的好朋友。查理当年对医学特别感兴趣，他观看过戴维斯医生进行泌尿科手术的录像，并对类似手术的统计结果感到着迷。</p>\n",
       "<p class=\"calibre8\">查理在家有饲养仓鼠的爱好，偶尔会拿它们跟其他孩子进行交易。查理敏锐的谈判能力甚至在小时候就已经锋芒毕露，他通常能够换来更大的或者有少见颜色的仓鼠。当他养的仓鼠达到35只时，他母亲勒令他停止这种爱好，因为他在地下室给仓鼠盖的窝实在太臭了。事隔多年之后，他的妹妹还记得，在查理放学回家喂仓鼠吃东西之前，家里人不得不忍受它们因为饥饿而发出的无穷无尽的尖叫。</p>\n",
       "<p class=\"calibre8\">查理上的是中央高中，它是一所规模非常大的公立学校，被认为是很好的大学预科学校。老师大多数是女性，他们对工作和学生都很认真负责。中央高中提供了传统的经典教育课程，查理当然学得很出色，因为他的逻辑思维能力很强，又很好学。</p>\n",
       "<div class=\"fleft\">\n",
       "<img alt=\"\" class=\"calibre9\" src=\"./data/00023.jpeg\"/>\n",
       "<p class=\"tushuo\">仓鼠饲养员和交易员</p>\n",
       "</div>\n",
       "<p class=\"calibre8\">在妈妈教会他读字母之后，查理就上学了，所以在小学和初中时，查理是班上年纪和个子最小的学生。由于身材实在太小，查理在常规的高中体育项目中毫无竞争力，所以他参加了射击队；因表现优异获得了杰出代表队员奖，最终还成了队长。他那件代表队毛衣（查理回忆说“在很小的襟部上绣着很大的字母”）引起许多校友的瞩目，他们很奇怪这个弱不禁风的小家伙怎么能得到优异奖。那是查理运气好，他父亲热爱户外活动，喜欢猎野鸭，而且很高兴他儿子的枪法神准。</p>\n",
       "<p class=\"calibre8\">20世纪20年代的奥马哈是一个民族熔炉；不同种族和宗教的人们相安无事，生意上也互有往来，犯罪几乎是闻所未闻的事情。该市的居民既不锁家门也不锁车门，人们相互信任。孩子们在温暖的夏夜玩“踢罐子”游戏，在星期六的午后去看最新的“有声电影”，比如说《金刚》，那是查理八岁时的最爱。</p>\n",
       "<div class=\"fright\">\n",
       "<img alt=\"\" class=\"calibre9\" src=\"./data/00024.jpeg\"/>\n",
       "<p class=\"tushuo\">中央高中校徽</p>\n",
       "</div>\n",
       "<p class=\"calibre8\">20世纪30年代是艰难时世，奥马哈受到大萧条的严重影响。查理亲眼看到贫苦大众的窘境，那让他终生难忘。他看到流浪汉在街上游荡，乞讨人们的施舍；也看到有人愿意清扫车道或者走廊，以便换取一个三明治。借助家人的社会关系，查理找到一份成天看马路上人来人往的无聊工作，每小时能赚40美分。查理喜欢这份工作多过在杂货店搬运沉重的货箱。</p>\n",
       "<p class=\"calibre8\">查理的爷爷是一位受尊敬的联邦法官，他的父亲也踏上法律的道路，成了一名成功的律师。查理的近亲受到大萧条的影响并不严重，但有些远亲深受其害。这个时代为年轻的查理提供了真正的学习经验。他爷爷伸出援手，拯救了查理的叔叔汤姆开设在内布拉斯加州斯特朗姆斯伯格市的一家小银行，查理从中领教到了爷爷的慷慨仗义和精明的商业头脑。由于经济形势很糟糕，加上庄稼因为干旱而歉收，该银行的农民客户无力偿还贷款。汤姆累积了35000美元无法收回的贷款凭证，前来恳求芒格爷爷相助。这位法官拿出一半的身家来冒险，花了35000美元的第一抵押贷款来交换银行的那些不良贷款，从而使得汤姆能够在罗斯福的银行整顿期过后重新开门营业。法官最终收回了他的绝大部分投资，但那是很多年以后的事情了。</p>\n",
       "<div class=\"chatu1\">\n",
       "<img alt=\"\" class=\"calibre5\" src=\"./data/00025.jpeg\"/>\n",
       "<p class=\"tushuo\">大萧条期间，奥马哈也未能幸免于难。查理的近亲并没有遭到太大的影响，但他的一些远亲深受其害。</p>\n",
       "</div>\n",
       "<p class=\"calibre13\">芒格法官还送他的音乐家女婿去上制药学校，并资助他买下一家位置上佳、因为大萧条而倒闭的药店。该药店后来财源广进，让查理的姑妈过上了有保障的日子。<span class=\"calibre16\">查理学到这样的道理：只要相互支持，芒格家族就能渡过美国历史上最糟糕的经济崩溃。</span></p>\n",
       "<p class=\"calibre8\">幸运的是，埃尔·芒格的律师事务所在大萧条期间生意兴隆，当时美国最高法院同意复审一桩涉及由他代理的某家小型肥皂制造公司的税务案件，这给他带来了一笔横财。碰巧，最高法院的审理结果也会影响到行业巨头高露洁——棕榄公司。高露洁公司认为，这位中西部的律师缺乏必要的经验，根本无法在最高法院打赢官司，所以他们付钱请埃尔让贤，由某个著名的纽约律师来取代他的位子。这位大城市的律师输掉了官司，埃尔则把一笔可观的费用装进了口袋。后来他开玩笑地说，他要是接手这个案子，也有可能打输，而且赚到的钱更少。这笔钱的具体数目并没有被披露，但它和埃尔从其他客户那里赚到的钱加起来，足够让芒格一家在大萧条期间继续过着舒服的日子。查理也帮家庭分忧，他通过工作赚取自己的零用钱，从而亲身体会到了财务独立的价值。</p>\n",
       "<div class=\"chatu1\"><img alt=\"\" class=\"calibre5\" src=\"./data/00026.jpeg\"/></div>\n",
       "<div class=\"fleft\">\n",
       "<img alt=\"\" class=\"calibre9\" src=\"./data/00027.jpeg\"/>\n",
       "<p class=\"tushuo\">“由于受到第二次世界大战期间各种因素的刺激，我曾短暂地钻研过基础物理学。这次钻研极大地提高了我的智慧。结果我得到了更多的思维模式，所以我更不会成为寓言中那个‘拿着铁锤的人’。”</p>\n",
       "</div>\n",
       "<p class=\"calibre8\">1941年，大西洋彼岸战火正酣，查理从中央高中毕业，离开了奥马哈，前往密歇根大学就读。查理选择了数学作为他的专业，因为他被数学逻辑和推理所吸引。上了一门理科必修的基础课程之后，他也喜欢上了物理学。查理为物理学的魅力和广阔的研究范围而着迷，尤其让他印象深刻的是阿尔伯特·爱因斯坦这样的物理学家研究未知事物的过程。查理后来热衷于用物理学的方式来解决问题，他认为这是处理各种生活问题的有效技巧。他常常说，任何人要想获得成功，都应该学习物理学，因为它的概念和公式十分美丽地展现了正确理论的力量。</p>\n",
       "<p class=\"calibre8\">当时部队急需上大学那个年龄段的人应征入伍。19岁生日之后不久，在密歇根完成大二学业的查理加入了美国陆军空军兵团的一个军官培养计划，完成该计划之后，他将成为一名少尉。他被派往新墨西哥大学的阿尔布开克校区，学习自然科学和工程学，后来又被送到加利福尼亚州帕萨迪纳市，入读了声誉很高的加州理工学院。他专攻热力学和气象学——这是两门对当时的飞行员来说很重要的学科——被培养成一名气象学家。完成加州理工的学业之后，查理被分配到位于阿拉斯加州诺姆市的永久军事基地。</p>\n",
       "<div class=\"fleft\">\n",
       "<img alt=\"\" class=\"calibre9\" src=\"./data/00028.jpeg\"/>\n",
       "<p class=\"tushuo\">“我在加州理工只读了九个月，那是二战期间，空军安排我在那里进修气象学。当年，甚至是现在，预测天气就像利用赛马的资料来预测赛马的结果。如果不是战争的压力，我对气象的兴趣是零。”</p>\n",
       "</div>\n",
       "<p class=\"calibre8\">服役期间，他和年轻的南希·哈金斯结了婚。南希原籍帕萨迪纳，是他妹妹玛丽在斯克里普斯学院的好朋友。他们先后在阿尔布开克和圣安东尼奥安家，直到1946年查理从美国陆军空军兵团退役。查理和南希婚后不久便生下了他们的第一个孩子，那是一个男孩，他们给他起名叫泰迪。</p>\n",
       "<p class=\"calibre8\">虽然在几个大学念过书，但查理仍然没有学士学位。尽管如此，他借“复员军人安置法案”，申请了哈佛法学院，他父亲也是该校毕业的。他没有本科学位，申请时处于劣势，但哈佛法学院的前院长罗斯克·庞德是他家的世交，他亲自为查理说情。查理被录取了，不过招生办决定让他先修本科的课程。</p>\n",
       "<p class=\"calibre8\"><span class=\"calibre16\">结果，查理轻而易举地在哈佛取得了成功，尽管在此期间他得罪了少数几个人。</span>因为聪明过人（空军的测试表明他的智商极高），查理的行事往往出人意表，这通常被视为唐突鲁莽。实际上，查理只是有点毛躁，也不太喜欢在教室里跟同学玩笑嬉闹。尽管如此，他还是受到大多数同龄人的喜爱，也完全享受在哈佛丰富多彩的学生生活。</p>\n",
       "<div class=\"chatu1\"><img alt=\"\" class=\"calibre5\" src=\"./data/00029.jpeg\"/></div>\n",
       "<p class=\"calibre13\">1948年，查理从哈佛法学院毕业，同届学生有335人，他是12名优秀毕业生之一。他原本想加入父亲的律师事务所，但和父亲商量之后，他们两人都认为查理应该去更大的城市发展。于是，他启程前往南加州，当年还是加州理工学院的学生时，他就喜欢这个地方。通过加利福尼亚州的律师执业考试之后，他供职于赖特&amp;加雷特律师事务所，该公司后来更名为穆西克、毕勒&amp;加雷特律师事务所。查理在南帕萨迪纳修建了一座房子，房子是由他的建筑师姨父弗雷德里克·斯托特设计的；他、南希和他们的三个孩子——泰迪、莫莉和温蒂——就住在那座房子里。</p>\n",
       "<div class=\"chatu1\">\n",
       "<img alt=\"\" class=\"calibre5\" src=\"./data/00030.jpeg\"/>\n",
       "<p class=\"tushuo\">哈佛法学院院长罗斯克·庞德亲自出面，让查理被哈佛录取。</p>\n",
       "</div>\n",
       "<div class=\"fright\">\n",
       "<img alt=\"\" class=\"calibre9\" src=\"./data/00031.jpeg\"/>\n",
       "<p class=\"tushuo\">“说起来挺伤心的，但确实不是每个人都喜欢我。”</p>\n",
       "</div>\n",
       "<p class=\"calibre8\">虽然外表风光无限，但查理的世界并非阳光普照。他的婚姻遇到了问题，他和他的妻子最终在1953年离婚。在那之后不久，查理得知他深爱的儿子泰迪罹患了致命的白血病。这对29岁的查理而言是难以承受的打击。当年骨髓移植尚未出现，白血病是没有希望治愈的绝症。有个朋友记得，那时查理会到医院探望垂死的儿子，然后痛哭着走在帕萨迪纳的街头。</p>\n",
       "<p class=\"calibre8\">在这段伤心的日子里，他的好友和律师事务所合伙人罗伊·托尔斯通过朋友搭线，安排查理和住在洛杉矶的南希·巴里·博斯韦克见面。她是斯坦福的毕业生，离了婚并有两个儿子，他们的年龄和查理的两个女儿差不多大。查理和南希有很多共同的爱好，相处得很快乐；在几个月的约会之后，他们订婚了。他们在1956年举办了一个小型的家庭婚礼，四个从四岁到七岁的孩子（男方的两个女儿和女方的两个儿子）参加了婚礼。</p>\n",
       "<p class=\"calibre8\">查理和南希在南希位于洛杉矶西部丘陵地带的房子住了好几年。后来为了缩短查理上下班的距离并加上其他原因，他们搬到汉考克公园，现在他们还住在那里。他们修建的房子很大，足以容纳这个人数不断增加的家庭：他们后来又生了三个儿子和一个女儿，总共拥有八个子女。幸运的是，他们两人都喜欢孩子！他们还喜欢高尔夫、海滩和社交俱乐部。查理和南希很快加入了大学俱乐部、加州俱乐部、洛杉矶乡村俱乐部和海滩俱乐部。</p>\n",
       "<div class=\"chatu1\">\n",
       "<img alt=\"\" class=\"calibre5\" src=\"./data/00032.jpeg\"/>\n",
       "<p class=\"tushuo\">查理终生对伦敦街头的建筑物极感兴趣。</p>\n",
       "</div>\n",
       "<p class=\"calibre13\">由于背起了许多新的责任，查理在他的律师事务所卖命工作。即使是这样，他的收入仍然不能让他满意，因为律师的收入是按小时收费的，而且跟年资有关。他想要拥有相比资深律师更多的收入。查理想要成为他的律师事务所客户中一些大资本家那样的人物，尤其是哈维·马德——他后来创办了以自己的名字命名的大学。在南希的支持下，他进行了律师业务之外的投资，寻求别的赚钱办法。然而，他并没有忘记他祖父教导的铁律：专注于当前的任务，控制支出。</p>\n",
       "<div class=\"chatu1\">\n",
       "<img alt=\"\" class=\"calibre5\" src=\"./data/00033.jpeg\"/>\n",
       "<p class=\"tushuo\">1956年1月27日，查理和南希·巴里·博斯韦克结婚。</p>\n",
       "</div>\n",
       "<p class=\"calibre13\">应用这种保守的方法，查理抓住了许多发财致富的机会。他开始投资股市，并且获得了某个客户几家电器企业的股权——这种做法在20世纪50年代中期和60年代的美国律师中很常见。这项投资对双方都有利：查理获得了宝贵的经商知识，而他的客户则享受到了一位精通领域不仅限于法律的律师的先见之明。</p>\n",
       "<p class=\"calibre8\">1961年，查理第一次涉足房地产业，投资伙伴是他的客户和朋友奥蒂斯·布思。他们在加州理工学院附近的空地修建了分户式产权公寓，这项投资大获成功，两位合伙人投入了10万美元，得到了30万美元的可观利润。查理和奥蒂斯接着在帕萨迪纳成功地开发了另外一个项目。查理后来还在加州阿罕布拉市参与了一些相同的项目。在不断地谈判和签约的过程中，他的商业触觉变得更加敏锐了。他把从上述投资赚到的钱都用于房地产开发，这样一来，他所做的项目就变得越来越大。等到1964年他收手的时候，光是房地产开发就给他带来了高达140万美元的收益。</p>\n",
       "<div class=\"chatu1\">\n",
       "<img alt=\"\" class=\"calibre5\" src=\"./data/00034.jpeg\"/>\n",
       "<p class=\"tushuo\">“我想你要是在为心爱的女人购买珠宝，你可能就不会计较花了多少钱。”</p>\n",
       "</div>\n",
       "<div class=\"fleft\">\n",
       "<img alt=\"\" class=\"calibre9\" src=\"./data/00035.jpeg\"/>\n",
       "<p class=\"tushuo\">查理论吸引客户：“关键是把手头的事情做好……把手头的事情做好。把已经拥有的客户照顾好，其他的自然会来找你。”</p>\n",
       "</div>\n",
       "<p class=\"calibre8\">1962年2月，他和四个来自穆西克、毕勒&amp;加雷特的同事合伙成立了新的律师事务所。最初的五位合伙人分别是罗伊·托尔斯、罗德里克·希尔斯、狄克·艾斯本思赫德、弗雷德·沃尔德和查理。后来成为合伙人的还有罗德的太太卡尔拉，以及詹姆斯·伍德，他是一个独立的执业律师，也是希尔斯家的好友，而且重要的是他有一位客户。他们把律师事务所命名为芒格、托尔斯&amp;希尔斯。多年以来，这个事务所更改了几次名字，但总是以芒格、托尔斯开头。随着罗恩·奥尔森的加入，它最终变成了芒格、托尔斯&amp;奥尔森，简称“芒格托尔斯”或者“MTO”。</p>\n",
       "<p class=\"calibre8\">对于当年的芒格来说，在律师业的成功只是事业的起点，而非最终的目标。差不多在创办新的律师事务所的时候，他同时也在仔细地设计退出该行业的方案。查理和杰克·惠勒一起建立了一个投资合伙公司，后来艾尔·马歇尔也加入他们。几年之前查理有了这个投资合伙公司的想法，当时查理的父亲去世了，查理必须返回奥马哈料理后事。为了欢迎查理回家，查理的朋友兼医师埃德·戴维斯医生的子女们安排了一个晚宴。戴维斯的两个儿子埃迪和尼尔都是查理童年的死党，那个时候他们已经成了医生，而他们的妹妹薇拉则嫁给了奥马哈的商人李希曼。<span class=\"calibre16\">出席晚宴的有薇拉和李希曼、尼尔和他的妻子琼，以及一个叫做沃伦·巴菲特的小伙子。</span></p>\n",
       "<div class=\"fleft\">\n",
       "<img alt=\"\" class=\"calibre9\" src=\"./data/00036.jpeg\"/>\n",
       "<p class=\"tushuo\">查理的父亲阿尔弗雷德·芒格</p>\n",
       "<p class=\"tushuo2\">查理正是因为回家料理父亲的后事，才会遇到沃伦·巴菲特。</p>\n",
       "</div>\n",
       "<p class=\"calibre8\">查理认识沃伦的家人，因为他早年曾在巴菲特父子商店工作过；沃伦也听说过查理，那是几年前他在奥马哈募集投资资本金的时候。有一次，沃伦遇到戴维斯医生和他的太太多萝西，向他们解释自己的投资哲学，他们同意把毕生积蓄的很大一部分——10万美元——交给他。为什么呢？医生解释说沃伦让他想起了查理·芒格。沃伦并不认识查理，但至少已经有了一个喜欢他的理由。</p>\n",
       "<p class=\"calibre8\">在这次回家的晚宴上，查理和沃伦发现他们有很多相同的想法。餐桌上其他人也明显地看出来这将会是一次惺惺相惜的交谈。那天晚上，两位年轻人——沃伦29岁，查理35岁——相谈甚欢，他们无所不谈，话题包括商业、金融和历史的许多方面。如果其中一方在某个方面的知识比较丰富，另外一方就会很兴奋地洗耳恭听。</p>\n",
       "<p class=\"calibre8\">沃伦对查理继续从事律师职业不以为然。他说查理固然可以把当律师作为一种爱好，可是当律师赚的钱没有沃伦正在做的事情赚得多。沃伦的逻辑帮助查理在经济条件许可的时候第一时间放弃了律师生涯。</p>\n",
       "<p class=\"calibre8\">查理返回洛杉矶之后，他们的交流还在继续，通过电话和长长的信件，有时他们的信长达九页。他们都明白两个人注定要一起做生意。<span class=\"calibre16\">他们之间不存在正式的合伙关系或契约关系——这种纽带是由两个相互理解、相互信赖的中西部人的一次握手和拥抱创造出来的。</span></p>\n",
       "<p class=\"calibre8\">他们的伙伴关系带来了许多好处：友谊、投资机会，以及那种理解彼此的思想和言语的独特能力。后来，他们各自领导的两家机构也开始互利互惠。沃伦投资或者收购企业的时候，会请芒格托尔斯律师事务所当法律顾问，他能随时享有全国顶尖的律师事务所，这给他带来了很多收益。与此同时，芒格托尔斯除了获得巴菲特的顾问费之外，也有其他收获，因为巴菲特的声誉给律师事务所带来了更多的高端客户。</p>\n",
       "<p class=\"calibre8\">但芒格托尔斯律师事务所并非唯利是图。芒格个人的生活原则在这个律师事务所也有所体现，该所不事声张地为洛杉矶地区的贫困人民和弱势群体提供了大量的法律援助服务。<span class=\"calibre16\">时至今日，查理对该所的律师仍有影响，他总是提醒他们，“别只看到钱”，要“选择那些你愿意与他交朋友的客户”。</span>虽然芒格早在1965年就离开了这个律师事务所，只在那里干了三年，但他对该所的影响仍然是不可磨灭的，这可以从下面这点看出来：他的名字依旧排在该所175名律师的前列。离开的时候，他并没有撤出他在该公司的股份。相反地，他主动将他的股份划给他的年轻合伙人弗雷德·沃尔德——他死于癌症，留下了一个妻子和几个子女。</p>\n",
       "<p class=\"calibre8\">查理追求财务独立的计划很快获得了巨大的成功。他和杰克·惠勒合伙投资创立了惠勒芒格公司，他花了许多时间来打造该公司的资产基础。他也花时间参与了各种房地产开发项目。所有投资都是一帆风顺，没有遇到重大的波折。在惠勒芒格公司，查理用他自己的钱和其他人的钱来投资股票。查理更专注于让他的资本运转起来，而不是吸引新的客户。因为杰克·惠勒在太平洋海岸股票交易所拥有两个席位，惠勒芒格公司只需支付很低的交易费用，同时惠勒和芒格将行政开销一直保持在接近零的水平上。</p>\n",
       "<div class=\"round1\">\n",
       "<div class=\"chatu\"><img alt=\"\" class=\"calibre17\" src=\"./data/00037.jpeg\"/></div>\n",
       "<p class=\"center\"><b class=\"calibre7\">太过相似？</b></p>\n",
       "<p class=\"kaiti3\">查理对两个人太过相似的“担心”在2005年接受《基普林格个人理财杂志》的访谈中显露无遗：“沃伦·巴菲特和你在投资及决策方面的分歧多吗？”“不多。这就是问题所在：如果我们之中有一个人看好某件事情，往往意味着两个人都会看好。”</p>\n",
       "</div>\n",
       "<div class=\"chatu2\"><img alt=\"\" class=\"calibre5\" src=\"./data/00038.jpeg\"/></div>\n",
       "<p class=\"calibre13\">随着时间的流逝，查理和沃伦继续给对方打电话和写信，分享他们的想法和投资理念。有时候他们会同意投资同一家公司。有时候他们的意见产生了分歧。慢慢地，他们各自独立的投资产生了交集。沃伦投资了蓝筹印花公司，变成最大的个人股东。查理变成了第二大股东，最终，伯克希尔公司将其收归旗下。</p>\n",
       "<div class=\"round2\">\n",
       "<p class=\"songti\">《福布斯》400富豪榜</p>\n",
       "<p class=\"center1\"><b class=\"calibre7\">查理·芒格</b></p>\n",
       "<p class=\"kaiti3\">16亿美元。</p>\n",
       "<p class=\"kaiti3\">投资业。洛杉矶。</p>\n",
       "<p class=\"kaiti3\">80岁。离异，再婚；8个子女。</p>\n",
       "<p class=\"kaiti3\">与合伙人沃伦·巴菲特相比，他得到的赞美没那么多，财富更是少得多，但仍是伯克希尔·哈撒韦的重要人物。自1978年以来担任该公司的副董事长，擅长复杂的投资分析。1959年与巴菲特相识，随后开始投资伯克希尔。其他投资：持有好市多公司（Costco Wholesale，零售业）、每日快讯（Daily Journal，法律报纸）和传家地产（Price Legacy，地产投资）的表决权股。热衷教育事业，捐赠了帕萨迪纳市亨廷顿图书馆的新楼；是哈佛——西湖中学的校董。</p>\n",
       "<p class=\"kaiti4\">《福布斯》，2004年10月11日</p>\n",
       "</div>\n",
       "<div class=\"yellowl\">\n",
       "<p class=\"songti\">答题人</p>\n",
       "<div class=\"chatu1\"><img alt=\"\" class=\"calibre17\" src=\"./data/00039.jpeg\"/></div>\n",
       "<p class=\"kaiti5\">伯克希尔年会有20000人参加，西科年会有将近500人出席。在大约六个小时的伯克希尔年会和三个小时的西科年会上，查理无需彩排，也无需把问题显示在屏幕上，他只用铅笔和白纸，回答各种各样的提问。下面这个例子来自2004年西科年会：</p>\n",
       "<p class=\"kaiti3\">问：下星期五晚上我想要去明尼苏达州的鹰湖钓鼓眼鱼。你有什么技巧或鱼饵推荐吗？</p>\n",
       "<p class=\"kaiti3\">答：我不钓鼓眼鱼啦，年纪大了之后，我只钓鲈鱼了。但在我的湖里，鼓眼鱼在晚上比较好钓。</p>\n",
       "<div class=\"chatu1\"><img alt=\"\" class=\"calibre17\" src=\"./data/00040.jpeg\"/></div>\n",
       "</div>\n",
       "<p class=\"calibre8\">查理和惠勒的合伙关系从1962年持续到1975年。惠勒芒格公司的前11年表现非常优异，年均复合毛收益率为28.3%（净收益率为20%），同期道指年均复合增长只有6.7%，而且没有出现收益下滑的年份。但这家合伙公司在1973年和1974年的大熊市中遭到了沉重的打击，这两年的亏损率分别为31.9%和31.5%，因为该公司的主力重仓股蓝筹印花公司和新美国基金下跌得很厉害。该公司的业绩出现了下滑，尽管用查理的话来说，他“那些主要的投资最终肯定能以高于市场报价的价格售出”。不过这家合伙公司在1975年强劲反弹，年度收益猛增73.2%，将14年的年均复合回报率提高到19.8%（净回报率13.7%），而同期道指的年均复合增长只有5%。</p>\n",
       "<p class=\"calibre8\">在这段艰难经历之后，查理效法巴菲特，最终决定不再直接为投资者管理基金（沃伦在1969年关闭了他自己的合伙公司）。他们决定通过控股一家股份公司来建立财富。惠勒芒格公司清算的时候，它的股东得到了蓝筹印花公司和多元零售公司的股份。这些股份后来被转为伯克希尔·哈撒韦的股票，1975年底的收市价是38美元。如今，每股价格超过85000美元（2005年本书英文版首次出版的时候），使查理成为《福布斯》400富豪榜上的一员。虽然查理对钱多钱少其实无所谓，但他为自己的名字出现在这样的榜单上而感到懊恼。尽管个人形象很健康，查理还是喜欢低调。</p>\n",
       "<p class=\"calibre8\">伯克希尔·哈撒韦在沃伦和查理的领导下获得非凡成功的故事已经在其他地方被讲述过很多次，所以这里就不赘述了。总而言之，在挑选价值被低估的公司、然后从公开市场上购买大量的股票或者直接将它们收购方面，他们的业绩是无与伦比的。他们收购了各种各样的企业，包括约翰斯·曼维尔公司、布法罗晚报、飞行安全国际公司、Netjets飞机租赁公司、邵牌地毯、本杰明·摩尔油漆公司、政府职员保险公司和牛奶皇后公司等。此外，他们还在公开市场上收购许多上市公司的大量股票，这些公司包括华盛顿邮报、可口可乐、吉列和美国运通。大多数情况下，他们的主要投资都是长期的——实际上，他们仍然拥有几乎每一家他们直接收购的企业。</p>\n",
       "<p class=\"calibre8\">本杰明·富兰克林的职业生涯横跨政府、商业、金融业和工业多个部门；每当公开发表演讲或找到听众的时候，不管何时也无论听众是多是少，查理总是流露出对他的仰慕。在喜诗糖果公司75周年庆典上，查理说：“我本人是个传记爱好者。我认为当你试图让人们学到有用的伟大概念时，最好是将这些概念和提出它们的伟人的生活与个性联系起来。我想你要是能够和亚当·斯密交朋友，那你的经济学肯定可以学得更好。<span class=\"calibre16\">和‘已逝的伟人’交朋友，这听起来很好玩，但如果你确实在生活中与那些有杰出思想的已逝的伟人成为朋友，那么我认为你会过上更好的生活，得到更好的教育。这种方法比简单地给出一些基本概念好得多。”</span></p>\n",
       "<p class=\"calibre8\">富兰克林用他自己赚到的钱达到了财政独立的目标，所以他能够专注于社会改良。查理仰慕他的精神导师的这种品质，努力效仿富兰克林。他长年参与管理撒玛利亚医院和哈佛——西湖中学，这两家机构都在洛杉矶，他担任过各自的董事会主席。多年以来，他和南希一直资助斯坦福大学、亨廷顿图书馆，以及加利福尼亚州圣马力诺市的艺术收藏中心和植物园。他们最近捐建了亨廷顿图书馆的一座大楼，该楼名叫芒格研究中心。虽然查理自称是保守的共和党人，但他却大力提倡计划生育。他认为女性只有热爱孩子才能生育。他还资助各种旨在改善教育环境和教育质量的活动。身为8个孩子的父亲和16个孙辈的祖父，查理认为他的财富应该用于帮助子孙继承一个更美好的世界。</p>\n",
       "<div class=\"round1\">\n",
       "<div class=\"chatu\"><img alt=\"\" class=\"calibre17\" src=\"./data/00041.jpeg\"/></div>\n",
       "<p class=\"center\"><b class=\"calibre7\">查理论当合伙人</b></p>\n",
       "<p class=\"kaiti3\">“合伙人最好能够独立工作。你可以当一名指挥型的合伙人、服从型的合伙人，或者一名总是平等协作的合伙人。我三种都当过。</p>\n",
       "<p class=\"kaiti3\">\"人们无法相信我突然让自己变成沃伦的一名服从型合伙人，但有些人很好，你成为他的服从型合伙人也挺好的。我并没有妄自尊大，对此无法接受。总是会有人在某些方面比你优秀。你必须先成为下属，然后才能成为领导。人们应该学会扮演各种角色。”</p>\n",
       "</div>\n",
       "<div class=\"round1\">\n",
       "<div class=\"chatu\"><img alt=\"\" class=\"calibre17\" src=\"./data/00042.jpeg\"/></div>\n",
       "<p class=\"kaiti5\">认为不做好人也可以成为伟人的想法真是大错特错，我敢保证，人世间真正的伟人同时也必定是真正道德高尚的人。</p>\n",
       "<p class=\"kaiti4\">——本杰明·富兰克林</p>\n",
       "</div>\n",
       "<p class=\"calibre8\">聪明绝顶的查理·芒格如今仍是他最好的朋友沃伦·巴菲特的宝贵合伙人，也仍是更广阔的商业世界的导师。他们联手创建了历史上最成功和受到最广泛尊敬的公司之一。</p>\n",
       "</div></div></div>\n",
       "</body></html>"
      ]
     },
     "execution_count": 33,
     "metadata": {},
     "output_type": "execute_result"
    }
   ],
   "source": [
    "soup"
   ]
  }
 ],
 "metadata": {
  "kernelspec": {
   "display_name": "Python 3",
   "language": "python",
   "name": "python3"
  },
  "language_info": {
   "codemirror_mode": {
    "name": "ipython",
    "version": 3
   },
   "file_extension": ".py",
   "mimetype": "text/x-python",
   "name": "python",
   "nbconvert_exporter": "python",
   "pygments_lexer": "ipython3",
   "version": "3.6.4"
  },
  "toc": {
   "base_numbering": 1,
   "nav_menu": {},
   "number_sections": true,
   "sideBar": true,
   "skip_h1_title": false,
   "title_cell": "Table of Contents",
   "title_sidebar": "Contents",
   "toc_cell": false,
   "toc_position": {},
   "toc_section_display": true,
   "toc_window_display": false
  },
  "varInspector": {
   "cols": {
    "lenName": 16,
    "lenType": 16,
    "lenVar": 40
   },
   "kernels_config": {
    "python": {
     "delete_cmd_postfix": "",
     "delete_cmd_prefix": "del ",
     "library": "var_list.py",
     "varRefreshCmd": "print(var_dic_list())"
    },
    "r": {
     "delete_cmd_postfix": ") ",
     "delete_cmd_prefix": "rm(",
     "library": "var_list.r",
     "varRefreshCmd": "cat(var_dic_list()) "
    }
   },
   "position": {
    "height": "375px",
    "left": "1550px",
    "right": "20px",
    "top": "120px",
    "width": "331px"
   },
   "types_to_exclude": [
    "module",
    "function",
    "builtin_function_or_method",
    "instance",
    "_Feature"
   ],
   "window_display": true
  }
 },
 "nbformat": 4,
 "nbformat_minor": 2
}
